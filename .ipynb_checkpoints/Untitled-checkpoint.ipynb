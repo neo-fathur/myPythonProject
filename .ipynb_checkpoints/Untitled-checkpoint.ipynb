{
 "cells": [
  {
   "cell_type": "code",
   "execution_count": 8,
   "id": "3b202e72-cad4-47af-903f-884ab552cfc6",
   "metadata": {},
   "outputs": [
    {
     "name": "stdout",
     "output_type": "stream",
     "text": [
      "2\n",
      "4\n",
      "6\n",
      "8\n"
     ]
    }
   ],
   "source": [
    "for i in range(2, 10, 2):\n",
    "    print(i)"
   ]
  },
  {
   "cell_type": "code",
   "execution_count": 10,
   "id": "1ff3a212-21f1-4e9a-ab22-899995af0a49",
   "metadata": {},
   "outputs": [
    {
     "name": "stdout",
     "output_type": "stream",
     "text": [
      "11\n"
     ]
    }
   ],
   "source": [
    "print(sum([1,3,7]))"
   ]
  },
  {
   "cell_type": "code",
   "execution_count": 11,
   "id": "cc952633-ff85-4f13-a546-88708cc6801e",
   "metadata": {},
   "outputs": [
    {
     "name": "stdout",
     "output_type": "stream",
     "text": [
      "Hello Miranda\n",
      "Hello Fred\n"
     ]
    }
   ],
   "source": [
    "def say_hello_to(name):\n",
    "    print(\"Hello \" + name)\n",
    "\n",
    "say_hello_to(\"Miranda\")\n",
    "say_hello_to(\"Fred\")"
   ]
  },
  {
   "cell_type": "code",
   "execution_count": 12,
   "id": "291bc858-4fff-4c6d-9a1f-f51d5a1aecb2",
   "metadata": {},
   "outputs": [
    {
     "name": "stdout",
     "output_type": "stream",
     "text": [
      "Turning clockwise\n"
     ]
    }
   ],
   "source": [
    "angle = 5\n",
    "if angle > 0:\n",
    "    print(\"Turning clockwise\")\n",
    "elif angle < 0:\n",
    "    print(\"Turning anticlockwise\")\n",
    "else:\n",
    "    print(\"Not turning at all\")"
   ]
  },
  {
   "cell_type": "code",
   "execution_count": 15,
   "id": "63968b5f-5bb2-43c2-9744-432e2fb9b741",
   "metadata": {},
   "outputs": [
    {
     "name": "stdout",
     "output_type": "stream",
     "text": [
      "You are an employee 10\n",
      "End\n",
      "\n",
      "1\n",
      "1\n",
      "2\n",
      "2\n",
      "Completed!\n"
     ]
    }
   ],
   "source": [
    "%run \"threads.py\""
   ]
  },
  {
   "cell_type": "code",
   "execution_count": 16,
   "id": "8d86861e-f385-490b-938b-d89d6a8e68eb",
   "metadata": {},
   "outputs": [
    {
     "ename": "SyntaxError",
     "evalue": "invalid syntax (3084181549.py, line 1)",
     "output_type": "error",
     "traceback": [
      "\u001b[0;36m  Cell \u001b[0;32mIn[16], line 1\u001b[0;36m\u001b[0m\n\u001b[0;31m    whith open(\"radishsurvey.txt\") as file:\u001b[0m\n\u001b[0m          ^\u001b[0m\n\u001b[0;31mSyntaxError\u001b[0m\u001b[0;31m:\u001b[0m invalid syntax\n"
     ]
    }
   ],
   "source": [
    "whith open(\"radishsurvey.txt\") as file:\n",
    "    for line in file:\n",
    "        line = line.strip() #If line was \"Jin Li - White Icicle\\n\", this code strips the newline from the end so the value of line becomes \"Jin Li - White Icicle\"\n",
    "        line.split(' - ') #delimiter to split the string up into a list of strings on either side\n",
    "        name = parts[0]\n",
    "        vote = parts[1]\n",
    "        print(name + \" voted for \" + vote)"
   ]
  },
  {
   "cell_type": "code",
   "execution_count": null,
   "id": "1cc199e4-d4ae-4da1-ae0d-8002f02a8cac",
   "metadata": {},
   "outputs": [],
   "source": []
  }
 ],
 "metadata": {
  "kernelspec": {
   "display_name": "Python 3 (ipykernel)",
   "language": "python",
   "name": "python3"
  },
  "language_info": {
   "codemirror_mode": {
    "name": "ipython",
    "version": 3
   },
   "file_extension": ".py",
   "mimetype": "text/x-python",
   "name": "python",
   "nbconvert_exporter": "python",
   "pygments_lexer": "ipython3",
   "version": "3.12.3"
  }
 },
 "nbformat": 4,
 "nbformat_minor": 5
}
